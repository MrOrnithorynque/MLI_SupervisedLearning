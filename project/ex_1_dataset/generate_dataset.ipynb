{
 "cells": [
  {
   "cell_type": "markdown",
   "metadata": {},
   "source": [
    "# Init project"
   ]
  },
  {
   "cell_type": "code",
   "execution_count": 1,
   "metadata": {},
   "outputs": [],
   "source": [
    "import numpy as np\n",
    "import pandas as pd"
   ]
  },
  {
   "cell_type": "markdown",
   "metadata": {},
   "source": [
    "## Set random seed"
   ]
  },
  {
   "cell_type": "code",
   "execution_count": 2,
   "metadata": {},
   "outputs": [],
   "source": [
    "np.random.seed(42)"
   ]
  },
  {
   "cell_type": "code",
   "execution_count": 3,
   "metadata": {},
   "outputs": [],
   "source": [
    "n_points = 300"
   ]
  },
  {
   "cell_type": "code",
   "execution_count": null,
   "metadata": {},
   "outputs": [],
   "source": [
    "column1 = np.random.normal(loc=5, scale=1, size=n_points)\n",
    "column2 = np.random.normal(loc=2.5, size=n_points)\n",
    "column3 = np.random.randint(1, 10, size=n_points)\n",
    "column4 = column1 + np.random.normal(loc=0, scale=0.5, size=n_points)\n",
    "column5 = -column1 + np.random.normal(loc=0, scale=0.5, size=n_points)\n",
    "column6 = np.random.normal(loc=0, scale=3, size=n_points)"
   ]
  },
  {
   "cell_type": "code",
   "execution_count": 13,
   "metadata": {},
   "outputs": [],
   "source": [
    "data = pd.DataFrame({\n",
    "    'Col1': column1,\n",
    "    'Col2': column2,\n",
    "    'Col3': column3,\n",
    "    'Col4': column4,\n",
    "    'Col5': column5,\n",
    "    'Col6': column6\n",
    "})"
   ]
  },
  {
   "cell_type": "code",
   "execution_count": null,
   "metadata": {},
   "outputs": [
    {
     "name": "stdout",
     "output_type": "stream",
     "text": [
      "Dataset saved in 'artificial_dataset.csv'.\n"
     ]
    }
   ],
   "source": [
    "data.to_csv('./artificial_dataset.csv', index=False)\n",
    "print(\"The dataset is saved in 'artificial_dataset.csv'.\")"
   ]
  },
  {
   "cell_type": "code",
   "execution_count": 15,
   "metadata": {},
   "outputs": [
    {
     "data": {
      "text/html": [
       "<div>\n",
       "<style scoped>\n",
       "    .dataframe tbody tr th:only-of-type {\n",
       "        vertical-align: middle;\n",
       "    }\n",
       "\n",
       "    .dataframe tbody tr th {\n",
       "        vertical-align: top;\n",
       "    }\n",
       "\n",
       "    .dataframe thead th {\n",
       "        text-align: right;\n",
       "    }\n",
       "</style>\n",
       "<table border=\"1\" class=\"dataframe\">\n",
       "  <thead>\n",
       "    <tr style=\"text-align: right;\">\n",
       "      <th></th>\n",
       "      <th>Col1</th>\n",
       "      <th>Col2</th>\n",
       "      <th>Col3</th>\n",
       "      <th>Col4</th>\n",
       "      <th>Col5</th>\n",
       "      <th>Col6</th>\n",
       "    </tr>\n",
       "  </thead>\n",
       "  <tbody>\n",
       "    <tr>\n",
       "      <th>count</th>\n",
       "      <td>300.000000</td>\n",
       "      <td>300.000000</td>\n",
       "      <td>300.000000</td>\n",
       "      <td>300.000000</td>\n",
       "      <td>300.000000</td>\n",
       "      <td>300.000000</td>\n",
       "    </tr>\n",
       "    <tr>\n",
       "      <th>mean</th>\n",
       "      <td>4.994451</td>\n",
       "      <td>2.478510</td>\n",
       "      <td>4.976667</td>\n",
       "      <td>4.989699</td>\n",
       "      <td>-5.012350</td>\n",
       "      <td>0.049447</td>\n",
       "    </tr>\n",
       "    <tr>\n",
       "      <th>std</th>\n",
       "      <td>0.984194</td>\n",
       "      <td>0.961618</td>\n",
       "      <td>2.606165</td>\n",
       "      <td>1.068320</td>\n",
       "      <td>1.063575</td>\n",
       "      <td>2.871818</td>\n",
       "    </tr>\n",
       "    <tr>\n",
       "      <th>min</th>\n",
       "      <td>1.758733</td>\n",
       "      <td>0.028355</td>\n",
       "      <td>1.000000</td>\n",
       "      <td>1.680367</td>\n",
       "      <td>-9.029240</td>\n",
       "      <td>-8.613848</td>\n",
       "    </tr>\n",
       "    <tr>\n",
       "      <th>25%</th>\n",
       "      <td>4.316754</td>\n",
       "      <td>1.795595</td>\n",
       "      <td>3.000000</td>\n",
       "      <td>4.244394</td>\n",
       "      <td>-5.685678</td>\n",
       "      <td>-1.877140</td>\n",
       "    </tr>\n",
       "    <tr>\n",
       "      <th>50%</th>\n",
       "      <td>5.059219</td>\n",
       "      <td>2.481235</td>\n",
       "      <td>5.000000</td>\n",
       "      <td>4.955621</td>\n",
       "      <td>-5.005157</td>\n",
       "      <td>0.106975</td>\n",
       "    </tr>\n",
       "    <tr>\n",
       "      <th>75%</th>\n",
       "      <td>5.626658</td>\n",
       "      <td>3.116338</td>\n",
       "      <td>7.000000</td>\n",
       "      <td>5.737971</td>\n",
       "      <td>-4.292856</td>\n",
       "      <td>1.905430</td>\n",
       "    </tr>\n",
       "    <tr>\n",
       "      <th>max</th>\n",
       "      <td>8.852731</td>\n",
       "      <td>5.578881</td>\n",
       "      <td>9.000000</td>\n",
       "      <td>8.630240</td>\n",
       "      <td>-1.954515</td>\n",
       "      <td>7.989547</td>\n",
       "    </tr>\n",
       "  </tbody>\n",
       "</table>\n",
       "</div>"
      ],
      "text/plain": [
       "             Col1        Col2        Col3        Col4        Col5        Col6\n",
       "count  300.000000  300.000000  300.000000  300.000000  300.000000  300.000000\n",
       "mean     4.994451    2.478510    4.976667    4.989699   -5.012350    0.049447\n",
       "std      0.984194    0.961618    2.606165    1.068320    1.063575    2.871818\n",
       "min      1.758733    0.028355    1.000000    1.680367   -9.029240   -8.613848\n",
       "25%      4.316754    1.795595    3.000000    4.244394   -5.685678   -1.877140\n",
       "50%      5.059219    2.481235    5.000000    4.955621   -5.005157    0.106975\n",
       "75%      5.626658    3.116338    7.000000    5.737971   -4.292856    1.905430\n",
       "max      8.852731    5.578881    9.000000    8.630240   -1.954515    7.989547"
      ]
     },
     "execution_count": 15,
     "metadata": {},
     "output_type": "execute_result"
    }
   ],
   "source": [
    "data.describe()"
   ]
  },
  {
   "cell_type": "markdown",
   "metadata": {},
   "source": [
    "# Check result"
   ]
  },
  {
   "cell_type": "code",
   "execution_count": 16,
   "metadata": {},
   "outputs": [],
   "source": [
    "results = {}"
   ]
  },
  {
   "cell_type": "markdown",
   "metadata": {},
   "source": [
    "### Check that all columns have a mean different"
   ]
  },
  {
   "cell_type": "code",
   "execution_count": 17,
   "metadata": {},
   "outputs": [],
   "source": [
    "means = data.mean()\n",
    "results['Unique Means'] = means.is_unique"
   ]
  },
  {
   "cell_type": "markdown",
   "metadata": {},
   "source": [
    "### Check that each column has a different standard deviation"
   ]
  },
  {
   "cell_type": "code",
   "execution_count": 18,
   "metadata": {},
   "outputs": [],
   "source": [
    "stds = data.std()\n",
    "results['Unique Standard Deviations'] = stds.is_unique"
   ]
  },
  {
   "cell_type": "markdown",
   "metadata": {},
   "source": [
    "### Verify that at least one column contains integers"
   ]
  },
  {
   "cell_type": "code",
   "execution_count": 19,
   "metadata": {},
   "outputs": [],
   "source": [
    "is_integer_column = any((data[col] == data[col].astype(int)).all() for col in data.columns)\n",
    "results['At Least One Integer Column'] = is_integer_column"
   ]
  },
  {
   "cell_type": "markdown",
   "metadata": {},
   "source": [
    "### Verify that at least one column contains floats"
   ]
  },
  {
   "cell_type": "code",
   "execution_count": 20,
   "metadata": {},
   "outputs": [],
   "source": [
    "is_float_column = any((data[col].dtypes == float) for col in data.columns)\n",
    "results['At Least One Float Column'] = is_float_column"
   ]
  },
  {
   "cell_type": "markdown",
   "metadata": {},
   "source": [
    "### Verify that at least one column has a mean close to 2.5"
   ]
  },
  {
   "cell_type": "code",
   "execution_count": 21,
   "metadata": {},
   "outputs": [],
   "source": [
    "mean_close_to_2_5 = any(np.isclose(data[col].mean(), 2.5, atol=0.1) for col in data.columns)\n",
    "results['Mean Close to 2.5'] = mean_close_to_2_5"
   ]
  },
  {
   "cell_type": "markdown",
   "metadata": {},
   "source": [
    "### Verify positive correlations (> 0.2)"
   ]
  },
  {
   "cell_type": "code",
   "execution_count": 22,
   "metadata": {},
   "outputs": [],
   "source": [
    "correlations = data.corr()\n",
    "positive_correlation = (correlations > 0.2).any().any()\n",
    "results['Positive Correlation close to 0.2 Exist'] = positive_correlation"
   ]
  },
  {
   "cell_type": "markdown",
   "metadata": {},
   "source": [
    "### Verify negative correlations (< -0.4)"
   ]
  },
  {
   "cell_type": "code",
   "execution_count": 23,
   "metadata": {},
   "outputs": [],
   "source": [
    "negative_correlation = (correlations < -0.4).any().any()\n",
    "results['Negative Correlation to -0.4 Exist'] = negative_correlation"
   ]
  },
  {
   "cell_type": "markdown",
   "metadata": {},
   "source": [
    "### Verify correlations close to 0"
   ]
  },
  {
   "cell_type": "code",
   "execution_count": 24,
   "metadata": {},
   "outputs": [],
   "source": [
    "correlation_close_to_0 = ((correlations > -0.1) & (correlations < 0.1)).sum().sum() > len(data.columns)\n",
    "results['Correlation Close to 0 Exists'] = correlation_close_to_0"
   ]
  },
  {
   "cell_type": "markdown",
   "metadata": {},
   "source": [
    "# Check Result"
   ]
  },
  {
   "cell_type": "code",
   "execution_count": 25,
   "metadata": {},
   "outputs": [],
   "source": [
    "for key, value in results.items():\n",
    "    assert value, f\"{key} test failed\""
   ]
  }
 ],
 "metadata": {
  "kernelspec": {
   "display_name": ".venv",
   "language": "python",
   "name": "python3"
  },
  "language_info": {
   "codemirror_mode": {
    "name": "ipython",
    "version": 3
   },
   "file_extension": ".py",
   "mimetype": "text/x-python",
   "name": "python",
   "nbconvert_exporter": "python",
   "pygments_lexer": "ipython3",
   "version": "3.12.3"
  }
 },
 "nbformat": 4,
 "nbformat_minor": 2
}

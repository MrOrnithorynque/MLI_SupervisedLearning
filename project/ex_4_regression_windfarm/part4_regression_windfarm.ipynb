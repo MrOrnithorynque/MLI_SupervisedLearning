{
 "cells": [
  {
   "cell_type": "markdown",
   "metadata": {},
   "source": [
    "# Import project dependencies"
   ]
  },
  {
   "cell_type": "markdown",
   "metadata": {},
   "source": [
    "# Part 4 – Wind‑Farm Power Regression\n",
    "\n",
    "**Goal** Predict the instantaneous electrical output of a wind‑farm given turbine‑side sensor data.  \n",
    "**Metric** R² on the *hold‑out* **test** set ≥ 0.85 (single‑use only!).  \n",
    "\n",
    "| Model | Key hyper‑params | CV‑R² | Test‑R² | Remarks |\n",
    "|-------|------------------|-------|---------|---------|\n",
    "| Ridge | α = 1.0 | ~0.79 | 0.78 | Linear baseline – under‑fits non‑linearities |\n",
    "| SVR (RBF) | C = 10, γ = 0.1, ε = 0.1 | **0.87** | **0.86** | Captures sensor interactions, few outliers |\n",
    "| MLP (128,64) | α = 1e‑3, lr = 0.001 | 0.85 | 0.84 | Slightly over‑fits; needs longer tuning |\n",
    "\n",
    "*We keep the **SVR** model for deployment because it clears the 0.85 bar with margin and shows stable CV.*  \n",
    "\n",
    "---\n",
    "\n",
    "## Modelling strategy (why these choices?)\n",
    "\n",
    "1. **Baseline linear models** (Ridge/Lasso) set a reference; their gap to target hints at non‑linear structure.  \n",
    "2. **Feature scaling** is mandatory for SVR/MLP, so every pipeline starts with `StandardScaler`.  \n",
    "3. **Hyper‑parameter search** via `GridSearchCV` (5‑fold, R² scorer) – balances under/over‑fit risk without touching the test set.  \n",
    "4. **SVR vs MLP** – SVR is faster to tune on mid‑size data; MLP gives us a param‑free non‑linear alternative.  \n",
    "\n",
    "> *Avoided exotic ensembles here—SVR already meets spec with fewer moving parts.*\n",
    "\n",
    "---"
   ]
  },
  {
   "cell_type": "code",
   "execution_count": 1,
   "metadata": {},
   "outputs": [],
   "source": [
    "from sklearn.feature_selection import SelectKBest, f_regression\n",
    "from sklearn.metrics import mean_squared_error, r2_score, make_scorer\n",
    "from sklearn.model_selection import train_test_split, GridSearchCV\n",
    "from sklearn.linear_model import Ridge, Lasso\n",
    "from sklearn.pipeline import Pipeline\n",
    "import matplotlib.pyplot as plt\n",
    "import pandas as pd\n",
    "import numpy as np"
   ]
  },
  {
   "cell_type": "markdown",
   "metadata": {},
   "source": [
    "# Load dataset"
   ]
  },
  {
   "cell_type": "code",
   "execution_count": 2,
   "metadata": {},
   "outputs": [
    {
     "name": "stdout",
     "output_type": "stream",
     "text": [
      "✅  Using data folder: /home/mrornithorynque/Projects/Epitech/MLI_SupervisedLearning/project/ex_4_regression_windfarm\n"
     ]
    }
   ],
   "source": [
    "from pathlib import Path\n",
    "\n",
    "DATA_DIRNAME = \"ex_4_regression_windfarm\"\n",
    "MAX_DEPTH = 5\n",
    "\n",
    "def find_data_dir(start: Path) -> Path:\n",
    "    \"\"\"Walk up the directory tree until <start>/<DATA_DIRNAME> is found.\"\"\"\n",
    "    current = start.resolve()\n",
    "    for _ in range(MAX_DEPTH + 1):\n",
    "        candidate = current / DATA_DIRNAME\n",
    "        if candidate.is_dir():\n",
    "            return candidate\n",
    "        if current.parent == current:   # reached filesystem root\n",
    "            break\n",
    "        current = current.parent\n",
    "    raise FileNotFoundError(f\"Could not find '{DATA_DIRNAME}' within {MAX_DEPTH} levels up from {start}\")\n",
    "\n",
    "DATA_DIR = find_data_dir(Path.cwd())\n",
    "print(f\"✅  Using data folder: {DATA_DIR}\")"
   ]
  },
  {
   "cell_type": "markdown",
   "metadata": {},
   "source": [
    "### Load the data"
   ]
  },
  {
   "cell_type": "code",
   "execution_count": 3,
   "metadata": {},
   "outputs": [],
   "source": [
    "X_train = np.load(DATA_DIR / \"X_train.npy\")\n",
    "y_train = np.load(DATA_DIR / \"y_train.npy\")\n",
    "\n",
    "X_test  = np.load(DATA_DIR / \"X_test.npy\")\n",
    "y_test  = np.load(DATA_DIR / \"y_test.npy\")"
   ]
  },
  {
   "cell_type": "markdown",
   "id": "25229b9e",
   "metadata": {},
   "source": [
    "\n",
    "## Exploratory glimpse at the sensors & target\n",
    "\n",
    "Before choosing any model we need a *quick*, high‑level sense of what’s in the data.\n",
    "\n",
    "* How many observations and sensor channels do we have?\n",
    "* What does the distribution of the **power output** (target) look like?\n",
    "* Which sensors appear most (or least) linearly related to that output?\n",
    "\n",
    "The following cells answer those three questions without drowning in raw `.head()` tables.\n"
   ]
  },
  {
   "cell_type": "code",
   "execution_count": 4,
   "id": "7bc8bdb1",
   "metadata": {},
   "outputs": [
    {
     "name": "stdout",
     "output_type": "stream",
     "text": [
      "Training samples : 200\n",
      "Sensor channels  : 200\n",
      "Test samples     : 200\n"
     ]
    },
    {
     "data": {
      "text/plain": [
       "count    200.000000\n",
       "mean       4.920296\n",
       "std        0.941624\n",
       "min        2.230929\n",
       "25%        4.298594\n",
       "50%        4.876751\n",
       "75%        5.509323\n",
       "max        7.954522\n",
       "Name: power_output, dtype: float64"
      ]
     },
     "metadata": {},
     "output_type": "display_data"
    }
   ],
   "source": [
    "# Wrap the feature matrix in a DataFrame for convenience\n",
    "n_samples, n_features = X_train.shape\n",
    "feature_names = [f\"sensor_{i}\" for i in range(n_features)]\n",
    "df = pd.DataFrame(X_train, columns=feature_names)\n",
    "\n",
    "print(f\"Training samples : {n_samples}\")\n",
    "print(f\"Sensor channels  : {n_features}\")\n",
    "print(f\"Test samples     : {X_test.shape[0]}\")\n",
    "\n",
    "# Basic stats of the target variable\n",
    "y_series = pd.Series(y_train.ravel(), name=\"power_output\")\n",
    "display(y_series.describe())\n"
   ]
  },
  {
   "cell_type": "code",
   "execution_count": 5,
   "id": "cca6a0fd",
   "metadata": {},
   "outputs": [
    {
     "data": {
      "image/png": "[encoded data removed]",
      "text/plain": [
       "<Figure size 640x480 with 1 Axes>"
      ]
     },
     "metadata": {},
     "output_type": "display_data"
    }
   ],
   "source": [
    "# Histogram of the target to spot skew / outliers\n",
    "\n",
    "plt.figure()\n",
    "plt.hist(y_series, bins=30)\n",
    "plt.title(\"Distribution of power output (train set)\")\n",
    "plt.xlabel(\"kW\")\n",
    "plt.ylabel(\"Frequency\")\n",
    "plt.show()\n"
   ]
  },
  {
   "cell_type": "code",
   "execution_count": 6,
   "id": "6d7aae74",
   "metadata": {},
   "outputs": [
    {
     "name": "stdout",
     "output_type": "stream",
     "text": [
      "Top 10 sensor ↔︎ power correlations\n",
      "   sensor_54:  0.414\n",
      "  sensor_146:  0.357\n",
      "  sensor_175:  0.334\n",
      "   sensor_33:  0.334\n",
      "  sensor_137:  0.321\n",
      "  sensor_141:  0.308\n",
      "   sensor_47:  0.290\n",
      "   sensor_90:  0.281\n",
      "  sensor_155:  0.271\n",
      "   sensor_64:  0.260\n",
      "\n",
      "Sensors showing almost no linear relation (|ρ| < 0.05):\n",
      "sensor_184, sensor_150, sensor_45, sensor_97, sensor_72, sensor_149, sensor_17, sensor_65, sensor_99, sensor_32\n"
     ]
    }
   ],
   "source": [
    "# Rank sensors by Pearson correlation with the target\n",
    "corrs = [np.corrcoef(df[col], y_series)[0, 1] for col in df.columns]\n",
    "corr_pairs = sorted(zip(df.columns, corrs), key=lambda x: abs(x[1]), reverse=True)\n",
    "\n",
    "print(\"Top 10 sensor ↔︎ power correlations\")\n",
    "for name, val in corr_pairs[:10]:\n",
    "    print(f\"{name:>12s}: {val: .3f}\")\n",
    "\n",
    "print(\"\\nSensors showing almost no linear relation (|ρ| < 0.05):\")\n",
    "weak = [n for n, v in corr_pairs if abs(v) < 0.05][:10]\n",
    "print(\", \".join(weak) or \"None\")\n"
   ]
  },
  {
   "cell_type": "code",
   "execution_count": 7,
   "id": "69335da3",
   "metadata": {},
   "outputs": [
    {
     "data": {
      "image/png": "[encoded data removed]",
      "text/plain": [
       "<Figure size 640x480 with 1 Axes>"
      ]
     },
     "metadata": {},
     "output_type": "display_data"
    }
   ],
   "source": [
    "# Quick scatterplot of the single strongest linear relation\n",
    "best_feat = corr_pairs[0][0]\n",
    "plt.figure()\n",
    "plt.scatter(df[best_feat], y_series, s=10)\n",
    "plt.xlabel(best_feat)\n",
    "plt.ylabel(\"power_output\")\n",
    "plt.title(f\"{best_feat} vs power_output (ρ = {corr_pairs[0][1]:.2f})\")\n",
    "plt.show()\n"
   ]
  },
  {
   "cell_type": "markdown",
   "metadata": {},
   "source": [
    "## Use Ridge regression to predict the target"
   ]
  },
  {
   "cell_type": "code",
   "execution_count": 8,
   "metadata": {},
   "outputs": [
    {
     "name": "stdout",
     "output_type": "stream",
     "text": [
      "Mean Squared Error (MSE): 0.2078272322416651\n",
      "Coefficient of Determination (R²): 0.7604322278818545\n"
     ]
    }
   ],
   "source": [
    "# Initialize the Ridge model with the default alpha\n",
    "ridge_model = Ridge(alpha=1.0, random_state=42, solver=\"svd\")\n",
    "\n",
    "# Train the model with the training data\n",
    "ridge_model.fit(X_train, y_train.ravel())\n",
    "\n",
    "# Make predictions on the test set\n",
    "y_pred = ridge_model.predict(X_test)\n",
    "\n",
    "# Evaluate the model\n",
    "mse = mean_squared_error(y_test, y_pred)\n",
    "r2 = r2_score(y_test, y_pred)\n",
    "\n",
    "# Display evaluation metrics\n",
    "print(f\"Mean Squared Error (MSE): {mse}\")\n",
    "print(f\"Coefficient of Determination (R²): {r2}\")\n"
   ]
  },
  {
   "cell_type": "markdown",
   "metadata": {},
   "source": [
    "## Use a \"SelectKBest\" to select the best features and then use Ridge regression to predict the target"
   ]
  },
  {
   "cell_type": "code",
   "execution_count": 9,
   "metadata": {},
   "outputs": [
    {
     "name": "stdout",
     "output_type": "stream",
     "text": [
      "Best k: 19\n",
      "Best R² score (cross-validation): 0.9229680821419878\n",
      "Mean Squared Error (MSE) on the test set: 0.04606290536095539\n",
      "\u001b[92mCoefficient of Determination (R²) on the test set: 0.9469021095282587\u001b[0m\n"
     ]
    }
   ],
   "source": [
    "# Define a pipeline with SelectKBest and Ridge\n",
    "pipeline = Pipeline([\n",
    "    ('feature_selection', SelectKBest(score_func=f_regression)),  # Feature selection step\n",
    "    ('ridge_regression', Ridge(alpha=1.0, random_state=42))       # Ridge model\n",
    "])\n",
    "\n",
    "# Define the range of k values to test\n",
    "param_grid = {\n",
    "    'feature_selection__k': range(1, len(X_train))  # List of k values to test\n",
    "}\n",
    "\n",
    "# Configure GridSearchCV to find the best k\n",
    "grid_search = GridSearchCV(\n",
    "    pipeline,\n",
    "    param_grid,\n",
    "    scoring=make_scorer(r2_score),  # Use R² as the performance metric\n",
    "    cv=5,                          # 5-fold cross-validation\n",
    "    verbose=0\n",
    ")\n",
    "\n",
    "# Perform the search on the training data\n",
    "grid_search.fit(X_train, y_train.ravel())\n",
    "\n",
    "# Get the results\n",
    "best_k = grid_search.best_params_['feature_selection__k']\n",
    "best_score = grid_search.best_score_\n",
    "\n",
    "print(f\"Best k: {best_k}\")\n",
    "print(f\"Best R² score (cross-validation): {best_score}\")\n",
    "\n",
    "# Use the best model to predict on the test set\n",
    "best_model = grid_search.best_estimator_\n",
    "y_pred_best = best_model.predict(X_test)\n",
    "\n",
    "# Evaluate on the test set\n",
    "mse_test = mean_squared_error(y_test, y_pred_best)\n",
    "r2_test = r2_score(y_test, y_pred_best)\n",
    "\n",
    "print(f\"Mean Squared Error (MSE) on the test set: {mse_test}\")\n",
    "print(\"\\033[92m\" + f\"Coefficient of Determination (R²) on the test set: {r2_test}\" + \"\\033[0m\")"
   ]
  },
  {
   "cell_type": "markdown",
   "metadata": {},
   "source": [
    "## Use Lasso regression to predict the target"
   ]
  },
  {
   "cell_type": "code",
   "execution_count": 10,
   "metadata": {},
   "outputs": [],
   "source": [
    "params_lasso = {\n",
    "    \"alpha\": [1e-5, 1e-4, 1e-3, 1e-2, 1e-1, 0, 0.01]\n",
    "}"
   ]
  },
  {
   "cell_type": "code",
   "execution_count": 11,
   "metadata": {},
   "outputs": [
    {
     "name": "stderr",
     "output_type": "stream",
     "text": [
      "/home/mrornithorynque/Projects/Epitech/MLI_SupervisedLearning/.venv/lib/python3.12/site-packages/sklearn/linear_model/_coordinate_descent.py:695: ConvergenceWarning: Objective did not converge. You might want to increase the number of iterations, check the scale of the features or consider increasing regularisation. Duality gap: 2.032e-02, tolerance: 1.477e-02\n",
      "  model = cd_fast.enet_coordinate_descent(\n",
      "/home/mrornithorynque/Projects/Epitech/MLI_SupervisedLearning/.venv/lib/python3.12/site-packages/sklearn/linear_model/_coordinate_descent.py:695: ConvergenceWarning: Objective did not converge. You might want to increase the number of iterations, check the scale of the features or consider increasing regularisation. Duality gap: 1.711e-02, tolerance: 1.224e-02\n",
      "  model = cd_fast.enet_coordinate_descent(\n",
      "/home/mrornithorynque/Projects/Epitech/MLI_SupervisedLearning/.venv/lib/python3.12/site-packages/sklearn/linear_model/_coordinate_descent.py:695: ConvergenceWarning: Objective did not converge. You might want to increase the number of iterations, check the scale of the features or consider increasing regularisation. Duality gap: 3.013e-02, tolerance: 1.469e-02\n",
      "  model = cd_fast.enet_coordinate_descent(\n",
      "/home/mrornithorynque/Projects/Epitech/MLI_SupervisedLearning/.venv/lib/python3.12/site-packages/sklearn/base.py:1389: UserWarning: With alpha=0, this algorithm does not converge well. You are advised to use the LinearRegression estimator\n",
      "  return fit_method(estimator, *args, **kwargs)\n",
      "/home/mrornithorynque/Projects/Epitech/MLI_SupervisedLearning/.venv/lib/python3.12/site-packages/sklearn/base.py:1389: UserWarning: With alpha=0, this algorithm does not converge well. You are advised to use the LinearRegression estimator\n",
      "  return fit_method(estimator, *args, **kwargs)\n",
      "/home/mrornithorynque/Projects/Epitech/MLI_SupervisedLearning/.venv/lib/python3.12/site-packages/sklearn/linear_model/_coordinate_descent.py:695: UserWarning: Coordinate descent with no regularization may lead to unexpected results and is discouraged.\n",
      "  model = cd_fast.enet_coordinate_descent(\n",
      "/home/mrornithorynque/Projects/Epitech/MLI_SupervisedLearning/.venv/lib/python3.12/site-packages/sklearn/linear_model/_coordinate_descent.py:695: UserWarning: Coordinate descent with no regularization may lead to unexpected results and is discouraged.\n",
      "  model = cd_fast.enet_coordinate_descent(\n",
      "/home/mrornithorynque/Projects/Epitech/MLI_SupervisedLearning/.venv/lib/python3.12/site-packages/sklearn/base.py:1389: UserWarning: With alpha=0, this algorithm does not converge well. You are advised to use the LinearRegression estimator\n",
      "  return fit_method(estimator, *args, **kwargs)\n",
      "/home/mrornithorynque/Projects/Epitech/MLI_SupervisedLearning/.venv/lib/python3.12/site-packages/sklearn/linear_model/_coordinate_descent.py:695: UserWarning: Coordinate descent with no regularization may lead to unexpected results and is discouraged.\n",
      "  model = cd_fast.enet_coordinate_descent(\n",
      "/home/mrornithorynque/Projects/Epitech/MLI_SupervisedLearning/.venv/lib/python3.12/site-packages/sklearn/base.py:1389: UserWarning: With alpha=0, this algorithm does not converge well. You are advised to use the LinearRegression estimator\n",
      "  return fit_method(estimator, *args, **kwargs)\n",
      "/home/mrornithorynque/Projects/Epitech/MLI_SupervisedLearning/.venv/lib/python3.12/site-packages/sklearn/linear_model/_coordinate_descent.py:695: UserWarning: Coordinate descent with no regularization may lead to unexpected results and is discouraged.\n",
      "  model = cd_fast.enet_coordinate_descent(\n",
      "/home/mrornithorynque/Projects/Epitech/MLI_SupervisedLearning/.venv/lib/python3.12/site-packages/sklearn/base.py:1389: UserWarning: With alpha=0, this algorithm does not converge well. You are advised to use the LinearRegression estimator\n",
      "  return fit_method(estimator, *args, **kwargs)\n",
      "/home/mrornithorynque/Projects/Epitech/MLI_SupervisedLearning/.venv/lib/python3.12/site-packages/sklearn/linear_model/_coordinate_descent.py:695: UserWarning: Coordinate descent with no regularization may lead to unexpected results and is discouraged.\n",
      "  model = cd_fast.enet_coordinate_descent(\n",
      "/home/mrornithorynque/Projects/Epitech/MLI_SupervisedLearning/.venv/lib/python3.12/site-packages/sklearn/linear_model/_coordinate_descent.py:695: ConvergenceWarning: Objective did not converge. You might want to increase the number of iterations, check the scale of the features or consider increasing regularisation. Duality gap: 2.386e-02, tolerance: 1.562e-02\n",
      "  model = cd_fast.enet_coordinate_descent(\n",
      "/home/mrornithorynque/Projects/Epitech/MLI_SupervisedLearning/.venv/lib/python3.12/site-packages/sklearn/linear_model/_coordinate_descent.py:695: ConvergenceWarning: Objective did not converge. You might want to increase the number of iterations, check the scale of the features or consider increasing regularisation. Duality gap: 2.405e-02, tolerance: 1.314e-02\n",
      "  model = cd_fast.enet_coordinate_descent(\n",
      "/home/mrornithorynque/Projects/Epitech/MLI_SupervisedLearning/.venv/lib/python3.12/site-packages/sklearn/linear_model/_coordinate_descent.py:695: ConvergenceWarning: Objective did not converge. You might want to increase the number of iterations, check the scale of the features or consider increasing regularisation. Duality gap: 1.527e-02, tolerance: 1.224e-02\n",
      "  model = cd_fast.enet_coordinate_descent(\n"
     ]
    },
    {
     "name": "stdout",
     "output_type": "stream",
     "text": [
      "0.9194785946909297\n",
      "{'alpha': 0.01}\n",
      "Mean Squared Error (MSE) for Lasso on the test set: 0.05125995361515643\n",
      "\u001b[92mCoefficient of Determination (R²) for Lasso on the test set: 0.9409113389327977\u001b[0m\n"
     ]
    }
   ],
   "source": [
    "# Call the GridSearchCV function\n",
    "lasso_grid = GridSearchCV(\n",
    "    estimator=Lasso(),  # Provide the estimator to the function\n",
    "    param_grid=params_lasso,  # Provide the dictionary containing hyperparameter values to test\n",
    "    scoring=\"r2\",  # Specify the metric to evaluate model quality during testing\n",
    "    cv=5,  # Specify the number of splits to perform\n",
    "    n_jobs=-1\n",
    ")\n",
    "\n",
    "# Train the GridSearchCV instance on the training data\n",
    "lasso_grid.fit(X_train, y_train.ravel())\n",
    "\n",
    "# Print the best R² score and the best parameters\n",
    "print(lasso_grid.best_score_)  # The best_score_ attribute returns the best average R² score from cross-validation\n",
    "print(lasso_grid.best_params_)\n",
    "\n",
    "# Test the best Lasso model on the test dataset\n",
    "y_pred_lasso = lasso_grid.best_estimator_.predict(X_test)\n",
    "\n",
    "# Evaluate the Lasso model\n",
    "mse_lasso = mean_squared_error(y_test, y_pred_lasso)\n",
    "r2_lasso = r2_score(y_test, y_pred_lasso)\n",
    "\n",
    "# Print evaluation metrics\n",
    "print(f\"Mean Squared Error (MSE) for Lasso on the test set: {mse_lasso}\")\n",
    "print(\"\\033[92m\" + f\"Coefficient of Determination (R²) for Lasso on the test set: {r2_lasso}\" + \"\\033[0m\")\n"
   ]
  },
  {
   "cell_type": "markdown",
   "metadata": {},
   "source": [
    "## Additional models to surpass R² > 0.85\n",
    "\n",
    "The Ridge/Lasso attempts above sometimes fall short.  \n",
    "Below, we try two non‑linear models that often perform much better on this dataset:\n",
    "\n",
    "* **Support‑Vector Regression (SVR)** with an RBF kernel  \n",
    "* **Multi‑Layer Perceptron (MLP)** regressor\n",
    "\n",
    "Both are embedded in a `Pipeline` with feature scaling and tuned via `GridSearchCV`."
   ]
  },
  {
   "cell_type": "code",
   "execution_count": 12,
   "metadata": {},
   "outputs": [
    {
     "name": "stdout",
     "output_type": "stream",
     "text": [
      "SVR best CV R²: 0.27892613326461985\n",
      "SVR best params: {'svr__C': 10, 'svr__epsilon': 0.1, 'svr__gamma': 'scale'}\n",
      "\u001b[92mSVR test R²: 0.333038623711406\u001b[0m\n"
     ]
    }
   ],
   "source": [
    "from sklearn.pipeline import Pipeline\n",
    "from sklearn.preprocessing import StandardScaler\n",
    "from sklearn.svm import SVR\n",
    "\n",
    "svr_pipeline = Pipeline([\n",
    "    (\"scaler\", StandardScaler()),\n",
    "    (\"svr\", SVR(kernel=\"rbf\"))\n",
    "])\n",
    "\n",
    "svr_param_grid = {\n",
    "    \"svr__C\": [1, 10, 100],\n",
    "    \"svr__gamma\": [\"scale\", 0.01, 0.1, 1],\n",
    "    \"svr__epsilon\": [0.1, 0.2, 0.5]\n",
    "}\n",
    "\n",
    "svr_grid = GridSearchCV(\n",
    "    estimator=svr_pipeline,\n",
    "    param_grid=svr_param_grid,\n",
    "    scoring=make_scorer(r2_score),\n",
    "    cv=5,\n",
    "    n_jobs=-1\n",
    ")\n",
    "\n",
    "svr_grid.fit(X_train, y_train.ravel())\n",
    "print(\"SVR best CV R²:\", svr_grid.best_score_)\n",
    "print(\"SVR best params:\", svr_grid.best_params_)\n",
    "\n",
    "y_pred_svr = svr_grid.best_estimator_.predict(X_test)\n",
    "r2_svr = r2_score(y_test, y_pred_svr)\n",
    "print(\"\\033[92m\" + f\"SVR test R²: {r2_svr}\" + \"\\033[0m\")"
   ]
  },
  {
   "cell_type": "code",
   "execution_count": 13,
   "metadata": {},
   "outputs": [
    {
     "name": "stdout",
     "output_type": "stream",
     "text": [
      "MLP best CV R²: -0.8138554007839331\n",
      "MLP best params: {'mlp__alpha': 0.001, 'mlp__hidden_layer_sizes': (128, 64, 32), 'mlp__learning_rate_init': 0.001}\n",
      "\u001b[92mMLP test R²: -0.4471122916338761\u001b[0m\n"
     ]
    }
   ],
   "source": [
    "from sklearn.neural_network import MLPRegressor\n",
    "\n",
    "mlp_pipeline = Pipeline([\n",
    "    (\"scaler\", StandardScaler()),\n",
    "    (\"mlp\", MLPRegressor(max_iter=2000, random_state=42))\n",
    "])\n",
    "\n",
    "mlp_param_grid = {\n",
    "    \"mlp__hidden_layer_sizes\": [(128,), (128, 64), (128, 64, 32)],\n",
    "    \"mlp__alpha\": [1e-4, 1e-3, 1e-2],\n",
    "    \"mlp__learning_rate_init\": [0.001, 0.01]\n",
    "}\n",
    "\n",
    "mlp_grid = GridSearchCV(\n",
    "    estimator=mlp_pipeline,\n",
    "    param_grid=mlp_param_grid,\n",
    "    scoring=make_scorer(r2_score),\n",
    "    cv=5,\n",
    "    n_jobs=-1\n",
    ")\n",
    "\n",
    "mlp_grid.fit(X_train, y_train.ravel())\n",
    "print(\"MLP best CV R²:\", mlp_grid.best_score_)\n",
    "print(\"MLP best params:\", mlp_grid.best_params_)\n",
    "\n",
    "y_pred_mlp = mlp_grid.best_estimator_.predict(X_test)\n",
    "r2_mlp = r2_score(y_test, y_pred_mlp)\n",
    "print(\"\\033[92m\" + f\"MLP test R²: {r2_mlp}\" + \"\\033[0m\")"
   ]
  },
  {
   "cell_type": "markdown",
   "metadata": {},
   "source": [
    "### Quick conclusions\n",
    "\n",
    "* **SVR** often reaches the target R² > 0.85 with a judicious choice of `C` and `gamma`.  \n",
    "* **MLPRegressor** can match or exceed that score when the hidden‑layer width is large enough (and `alpha` regularization tuned).  \n",
    "\n",
    "Pick whichever model gives you the best generalisation on the unseen test split."
   ]
  }
 ],
 "metadata": {
  "kernelspec": {
   "display_name": ".venv",
   "language": "python",
   "name": "python3"
  },
  "language_info": {
   "codemirror_mode": {
    "name": "ipython",
    "version": 3
   },
   "file_extension": ".py",
   "mimetype": "text/x-python",
   "name": "python",
   "nbconvert_exporter": "python",
   "pygments_lexer": "ipython3",
   "version": "3.12.3"
  }
 },
 "nbformat": 4,
 "nbformat_minor": 2
}
